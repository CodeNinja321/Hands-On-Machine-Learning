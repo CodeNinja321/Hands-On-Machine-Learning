{
 "cells": [
  {
   "cell_type": "markdown",
   "metadata": {},
   "source": [
    "# Derivative function"
   ]
  },
  {
   "cell_type": "markdown",
   "metadata": {},
   "source": [
    "### $$f(x) = x^2$$\n",
    "### $$h = \\Delta x$$\n",
    "### $$f(x + h) = (x + h)^2$$\n",
    "### $$\\dfrac{f(x + h) - f(x)}{h}$$\n",
    "### $$\\dfrac{x^2 + 2xh + h^2 - x^2}{h}$$\n",
    "### $$\\dfrac{2xh + h^2}{h}$$\n",
    "### $$2x + h$$\n",
    "### if h ap\n",
    "### $$\\lim_{h\\to 0} \\dfrac{f(x + h) - f(x)}{h}$$"
   ]
  },
  {
   "cell_type": "code",
   "execution_count": 41,
   "metadata": {},
   "outputs": [],
   "source": [
    "def get_derivative(func, x):\n",
    "    #First define a very small delta x and call it h\n",
    "    h = 0.000000001\n",
    "    #return dy/dx to get the derivative of func for x\n",
    "    return (func(x+h)-func(x))/h"
   ]
  },
  {
   "cell_type": "markdown",
   "metadata": {},
   "source": [
    "## Test function $f(x) = x^2$"
   ]
  },
  {
   "cell_type": "code",
   "execution_count": 42,
   "metadata": {},
   "outputs": [],
   "source": [
    "def f(x):\n",
    "    return x**2"
   ]
  },
  {
   "cell_type": "code",
   "execution_count": 43,
   "metadata": {},
   "outputs": [
    {
     "name": "stdout",
     "output_type": "stream",
     "text": [
      "derivative: 4.000000330961484 \n",
      "real derivative: 4\n"
     ]
    }
   ],
   "source": [
    "x = 2\n",
    "derivative = get_derivative(f, x)\n",
    "real_derivative = 2*x\n",
    "print('derivative:', derivative, '\\nreal derivative:', real_derivative)"
   ]
  },
  {
   "cell_type": "code",
   "execution_count": null,
   "metadata": {},
   "outputs": [],
   "source": []
  }
 ],
 "metadata": {
  "kernelspec": {
   "display_name": "Python 3",
   "language": "python",
   "name": "python3"
  },
  "language_info": {
   "codemirror_mode": {
    "name": "ipython",
    "version": 3
   },
   "file_extension": ".py",
   "mimetype": "text/x-python",
   "name": "python",
   "nbconvert_exporter": "python",
   "pygments_lexer": "ipython3",
   "version": "3.6.7"
  }
 },
 "nbformat": 4,
 "nbformat_minor": 2
}
